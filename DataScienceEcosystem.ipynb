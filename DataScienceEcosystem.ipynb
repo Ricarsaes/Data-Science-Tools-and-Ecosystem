{
 "cells": [
  {
   "cell_type": "markdown",
   "id": "4b20cf66",
   "metadata": {},
   "source": [
    "# Data Science Tools amd Ecosystem"
   ]
  },
  {
   "cell_type": "markdown",
   "id": "2d761cb9",
   "metadata": {},
   "source": [
    "In this notebook, Data Science Tools and Ecosystem are summarized"
   ]
  },
  {
   "cell_type": "markdown",
   "id": "4d74ecc6",
   "metadata": {},
   "source": [
    "- List popular languages for Data Science\n",
    "- Liste commonly used libraries for Data Science\n",
    "- Create code cells to multiply and add numbers"
   ]
  },
  {
   "cell_type": "markdown",
   "id": "9dafbb19",
   "metadata": {},
   "source": [
    "## Some of the popular languages that Data Scientists use are:\n",
    "1. Python\n",
    "2. R\n",
    "3. SQL\n",
    "4. Java\n",
    "5. Julia\n",
    "6. Scala\n",
    "7. C/C++"
   ]
  },
  {
   "cell_type": "markdown",
   "id": "9677f969",
   "metadata": {},
   "source": [
    "## Some of the commonly used libraries used by Data Scientists include:\n",
    "1. TensorFlow\n",
    "2. SciPy\n",
    "3. NumPy\n",
    "4. Pandas\n",
    "5. Keras\n",
    "6. PyTorch"
   ]
  },
  {
   "cell_type": "markdown",
   "id": "e531adf1",
   "metadata": {},
   "source": [
    "| Data Science Tools |\n",
    "|--------------------|\n",
    "| RStudio |\n",
    "| TensorFlow |\n",
    "| Apache Spark |"
   ]
  },
  {
   "cell_type": "markdown",
   "id": "0e58522b",
   "metadata": {},
   "source": [
    "### Below are a few examples of evaluating artihmetic expressions in Python"
   ]
  },
  {
   "cell_type": "code",
   "execution_count": 1,
   "id": "124531fb",
   "metadata": {},
   "outputs": [
    {
     "data": {
      "text/plain": [
       "17"
      ]
     },
     "execution_count": 1,
     "metadata": {},
     "output_type": "execute_result"
    }
   ],
   "source": [
    "#This is a simple arithmetic expression to multiply then add integers\n",
    "(3*4)+5"
   ]
  },
  {
   "cell_type": "code",
   "execution_count": 7,
   "id": "1f99e1c5",
   "metadata": {},
   "outputs": [
    {
     "name": "stdout",
     "output_type": "stream",
     "text": [
      "200 minutes are 3.3333333333333335 hours\n"
     ]
    }
   ],
   "source": [
    "#This will convert 200 minutes to hours by dividing by 60\n",
    "res= 200/60\n",
    "print(\"200 minutes are \" + str(res) + \" hours\")"
   ]
  },
  {
   "cell_type": "markdown",
   "id": "ca164374",
   "metadata": {},
   "source": [
    "## Author\n",
    "Ricardo Sanz"
   ]
  }
 ],
 "metadata": {
  "kernelspec": {
   "display_name": "Python 3 (ipykernel)",
   "language": "python",
   "name": "python3"
  },
  "language_info": {
   "codemirror_mode": {
    "name": "ipython",
    "version": 3
   },
   "file_extension": ".py",
   "mimetype": "text/x-python",
   "name": "python",
   "nbconvert_exporter": "python",
   "pygments_lexer": "ipython3",
   "version": "3.9.13"
  }
 },
 "nbformat": 4,
 "nbformat_minor": 5
}
